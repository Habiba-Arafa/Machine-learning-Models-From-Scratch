{
  "nbformat": 4,
  "nbformat_minor": 0,
  "metadata": {
    "colab": {
      "provenance": [],
      "authorship_tag": "ABX9TyOmqbzxjxMFLJxsHfTTv87A",
      "include_colab_link": true
    },
    "kernelspec": {
      "name": "python3",
      "display_name": "Python 3"
    },
    "language_info": {
      "name": "python"
    }
  },
  "cells": [
    {
      "cell_type": "markdown",
      "metadata": {
        "id": "view-in-github",
        "colab_type": "text"
      },
      "source": [
        "<a href=\"https://colab.research.google.com/github/Habiba-Arafa/Machine-learning-Models-From-Scratch/blob/main/Neural_Network_.ipynb\" target=\"_parent\"><img src=\"https://colab.research.google.com/assets/colab-badge.svg\" alt=\"Open In Colab\"/></a>"
      ]
    },
    {
      "cell_type": "code",
      "execution_count": null,
      "metadata": {
        "id": "ZcPBT0F0z3eA"
      },
      "outputs": [],
      "source": [
        "import numpy as np\n",
        "import matplotlib.pyplot as plt\n",
        "from tensorflow.keras.datasets import mnist\n",
        "from tensorflow.keras.utils import to_categorical"
      ]
    },
    {
      "cell_type": "code",
      "source": [
        "# Load MNIST data\n",
        "(X_train, y_train), (X_test, y_test) = mnist.load_data()"
      ],
      "metadata": {
        "id": "TAj4eGtw-cDc"
      },
      "execution_count": null,
      "outputs": []
    },
    {
      "cell_type": "code",
      "source": [
        "# Normalize X_train & X_test\n",
        "X_train = X_train.reshape(X_train.shape[0], -1).astype('float32') / 255.0\n",
        "X_test = X_test.reshape(X_test.shape[0], -1).astype('float32') / 255.0\n",
        "\n",
        "# Convert labels to categorical (one-hot encoding)\n",
        "y_train = to_categorical(y_train, num_classes=10)\n",
        "y_test = to_categorical(y_test, num_classes=10)\n"
      ],
      "metadata": {
        "id": "c7hP5HtA-f3Z"
      },
      "execution_count": null,
      "outputs": []
    },
    {
      "cell_type": "code",
      "source": [
        "# Initialize weights and biases\n",
        "def initialise(input_neuron, hidden_neuron, output_neuron):\n",
        "    w1 = np.random.randn(hidden_neuron, input_neuron) * np.sqrt(2.0 / input_neuron)\n",
        "    w2 = np.random.randn(output_neuron, hidden_neuron) * np.sqrt(2.0 / hidden_neuron)\n",
        "    b1 = np.zeros((hidden_neuron, 1))\n",
        "    b2 = np.zeros((output_neuron, 1))\n",
        "    return w1, b1, w2, b2"
      ],
      "metadata": {
        "id": "UYkEe2zG-hEg"
      },
      "execution_count": null,
      "outputs": []
    },
    {
      "cell_type": "code",
      "source": [
        "# Activation functions and their derivatives\n",
        "def ReLU(z):\n",
        "    return np.maximum(0, z)\n",
        "\n",
        "def linear(z):\n",
        "    return z\n",
        "\n",
        "def linearPrime(z):\n",
        "    return 1\n",
        "\n",
        "def ReLUPrime(z):\n",
        "    return (z > 0).astype(float)"
      ],
      "metadata": {
        "id": "5E_YCUe3-hKC"
      },
      "execution_count": null,
      "outputs": []
    },
    {
      "cell_type": "code",
      "source": [
        "# Forward propagation\n",
        "def forwardProp(a0, w1, b1, w2, b2):\n",
        "    z1 = np.dot(w1, a0) + b1\n",
        "    a1 = ReLU(z1)\n",
        "    z2 = np.dot(w2, a1) + b2\n",
        "    a2 = linear(z2)\n",
        "    return z1, a1, z2, a2"
      ],
      "metadata": {
        "id": "eK11shc9-rC8"
      },
      "execution_count": null,
      "outputs": []
    },
    {
      "cell_type": "code",
      "source": [
        "# Compute gradients\n",
        "def computeGradient(a2, y, z2, a1, w2, z1, a0):\n",
        "    m = a2.shape[1]\n",
        "    de2 = (a2 - y) * linearPrime(z2)\n",
        "    db2 = de2\n",
        "    dw2 = np.dot(de2, a1.T)\n",
        "    da1 = np.dot(w2.T, de2)\n",
        "    de1 = da1 * ReLUPrime(z1)\n",
        "    db1 = de1\n",
        "    dw1 = np.dot(de1, a0.T)\n",
        "    return dw1, db1, dw2, db2\n",
        "\n",
        "# Update weights and biases\n",
        "def updateWeightsAndBiases(w1, b1, w2, b2, dw1, db1, dw2, db2, eta):\n",
        "    w1 = w1 - eta * dw1\n",
        "    b1 = b1 - eta * db1.sum(axis=1, keepdims=True)\n",
        "    w2 = w2 - eta * dw2\n",
        "    b2 = b2 - eta * db2.sum(axis=1, keepdims=True)\n",
        "    return w1, b1, w2, b2"
      ],
      "metadata": {
        "id": "jHfr_AK6-uXD"
      },
      "execution_count": null,
      "outputs": []
    },
    {
      "cell_type": "code",
      "source": [
        "# Training function\n",
        "def train(X_train, y_train, w1, b1, w2, b2, eta, epochs, batch_size):\n",
        "    n_samples = X_train.shape[0]\n",
        "    for epoch in range(epochs):\n",
        "        cost = 0\n",
        "        for i in range(0, n_samples, batch_size):\n",
        "            batch_start = i\n",
        "            batch_end = min(n_samples, i + batch_size)\n",
        "            X_batch = X_train[batch_start:batch_end].T\n",
        "            y_batch = y_train[batch_start:batch_end].T\n",
        "\n",
        "            z1, a1, z2, a2 = forwardProp(X_batch, w1, b1, w2, b2)\n",
        "            dw1, db1, dw2, db2 = computeGradient(a2, y_batch, z2, a1, w2, z1, X_batch)\n",
        "            w1, b1, w2, b2 = updateWeightsAndBiases(w1, b1, w2, b2, dw1, db1, dw2, db2, eta)\n",
        "\n",
        "            current_cost = np.sum((a2 - y_batch) ** 2) * 0.5\n",
        "            cost += current_cost\n",
        "\n",
        "        print(f\"Epoch {epoch + 1}/{epochs}, Cost: {cost}\")\n",
        "\n",
        "    return w1, b1, w2, b2"
      ],
      "metadata": {
        "id": "T_JVGGbJ-7Vr"
      },
      "execution_count": null,
      "outputs": []
    },
    {
      "cell_type": "code",
      "source": [
        "# Testing function\n",
        "def test(X_test, w1, b1, w2, b2):\n",
        "    z1, a1, z2, a2 = forwardProp(X_test.T, w1, b1, w2, b2)\n",
        "    return a2\n"
      ],
      "metadata": {
        "id": "OJbi-BRR-_cS"
      },
      "execution_count": null,
      "outputs": []
    },
    {
      "cell_type": "code",
      "source": [
        "input_neuron = X_train.shape[1]\n",
        "hidden_neuron = 128\n",
        "output_neuron = 10\n",
        "\n",
        "# Initialize weights and biases\n",
        "w1, b1, w2, b2 = initialise(input_neuron, hidden_neuron, output_neuron)\n",
        "\n",
        "# Set hyperparameters\n",
        "eta = 0.01\n",
        "epochs = 20\n",
        "batch_size = 64\n",
        "\n",
        "# Training loop\n",
        "w1, b1, w2, b2 = train(X_train, y_train, w1, b1, w2, b2, eta, epochs, batch_size)\n",
        "\n",
        "# Evaluate on test data\n",
        "y_pred = test(X_test, w1, b1, w2, b2)"
      ],
      "metadata": {
        "colab": {
          "base_uri": "https://localhost:8080/"
        },
        "id": "c-YXz1Ab_FQv",
        "outputId": "40dfe265-e21f-44c7-f0c4-215196785e0c"
      },
      "execution_count": null,
      "outputs": [
        {
          "output_type": "stream",
          "name": "stdout",
          "text": [
            "Epoch 1/20, Cost: 30338.306574854156\n",
            "Epoch 2/20, Cost: 6902.191966040078\n",
            "Epoch 3/20, Cost: 6399.976825574024\n",
            "Epoch 4/20, Cost: 6134.580531096247\n",
            "Epoch 5/20, Cost: 5956.378845301379\n",
            "Epoch 6/20, Cost: 5779.602189366295\n",
            "Epoch 7/20, Cost: 5617.844774457905\n",
            "Epoch 8/20, Cost: 5489.189933102029\n",
            "Epoch 9/20, Cost: 5082.153608186728\n",
            "Epoch 10/20, Cost: 4687.040080387593\n",
            "Epoch 11/20, Cost: 4600.6658404487725\n",
            "Epoch 12/20, Cost: 4544.311694213162\n",
            "Epoch 13/20, Cost: 4499.763835636283\n",
            "Epoch 14/20, Cost: 4461.830936145185\n",
            "Epoch 15/20, Cost: 4423.362876671967\n",
            "Epoch 16/20, Cost: 4362.693004428666\n",
            "Epoch 17/20, Cost: 4285.150050068615\n",
            "Epoch 18/20, Cost: 4220.3257097336555\n",
            "Epoch 19/20, Cost: 4167.172269587236\n",
            "Epoch 20/20, Cost: 4130.0553436768605\n"
          ]
        }
      ]
    },
    {
      "cell_type": "code",
      "source": [
        "# Convert one-hot encoded y_test back to categorical labels\n",
        "true_labels = np.argmax(y_test, axis=1)\n",
        "# Convert predictions to categorical labels\n",
        "predicted_labels = np.argmax(y_pred, axis=0)\n",
        "\n",
        "\n",
        "\n",
        "# Compute accuracy\n",
        "from sklearn.metrics import accuracy_score\n",
        "accuracy = accuracy_score(true_labels, predicted_labels) * 100\n",
        "print(f'Test Accuracy: {accuracy:.2f}%')"
      ],
      "metadata": {
        "colab": {
          "base_uri": "https://localhost:8080/"
        },
        "id": "WNBluOW0_MXc",
        "outputId": "76a6cc71-a325-46df-f143-79ce81af84d5"
      },
      "execution_count": null,
      "outputs": [
        {
          "output_type": "stream",
          "name": "stdout",
          "text": [
            "Test Accuracy: 93.91%\n"
          ]
        }
      ]
    }
  ]
}