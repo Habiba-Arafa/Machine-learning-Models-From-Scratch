{
  "nbformat": 4,
  "nbformat_minor": 0,
  "metadata": {
    "colab": {
      "provenance": [],
      "authorship_tag": "ABX9TyN+yJvO1ZtWsjz2oWrudtnU",
      "include_colab_link": true
    },
    "kernelspec": {
      "name": "python3",
      "display_name": "Python 3"
    },
    "language_info": {
      "name": "python"
    }
  },
  "cells": [
    {
      "cell_type": "markdown",
      "metadata": {
        "id": "view-in-github",
        "colab_type": "text"
      },
      "source": [
        "<a href=\"https://colab.research.google.com/github/Habiba-Arafa/Machine-learning-Models-From-Scratch/blob/main/Linear_Regression.ipynb\" target=\"_parent\"><img src=\"https://colab.research.google.com/assets/colab-badge.svg\" alt=\"Open In Colab\"/></a>"
      ]
    },
    {
      "cell_type": "code",
      "source": [
        "import pandas as pd\n",
        "import numpy as np\n",
        "from sklearn.model_selection import train_test_split\n",
        "from sklearn.metrics import accuracy_score\n"
      ],
      "metadata": {
        "id": "4DzX1LZh-xAn"
      },
      "execution_count": 28,
      "outputs": []
    },
    {
      "cell_type": "code",
      "source": [
        "# Load the Iris dataset\n",
        "iris = pd.read_csv(\"/content/Iris.csv\")\n",
        "df = iris.drop(\"Id\", axis=1)"
      ],
      "metadata": {
        "id": "Imzt93es-w9R"
      },
      "execution_count": 19,
      "outputs": []
    },
    {
      "cell_type": "code",
      "source": [
        "# Separate classes\n",
        "class1 = df[df['Species'] == 'Iris-setosa']\n",
        "class2 = df[(df['Species'] == 'Iris-virginica') | (df['Species'] == 'Iris-versicolor')]\n"
      ],
      "metadata": {
        "id": "_rtZUagY-wzf"
      },
      "execution_count": 20,
      "outputs": []
    },
    {
      "cell_type": "code",
      "source": [
        "# Split data for class1 (Iris-setosa)\n",
        "train_Class1, test_Class1 = train_test_split(class1, test_size=0.2, random_state=42)\n",
        "\n",
        "# Split data for class2 (Iris-virginica and Iris-versicolor)\n",
        "train_Class2, test_Class2 = train_test_split(class2, test_size=0.2, random_state=42)\n"
      ],
      "metadata": {
        "id": "cNj9uYaC-wv_"
      },
      "execution_count": 21,
      "outputs": []
    },
    {
      "cell_type": "code",
      "source": [
        "# Remove the 'Species' column\n",
        "train_Class1 = train_Class1.drop(\"Species\", axis=1)\n",
        "train_Class2 = train_Class2.drop(\"Species\", axis=1)\n",
        "\n",
        "# Convert to numpy arrays\n",
        "train_Class1_array = train_Class1.values\n",
        "train_Class2_array = train_Class2.values"
      ],
      "metadata": {
        "id": "Vrr9gGWH-wtP"
      },
      "execution_count": 22,
      "outputs": []
    },
    {
      "cell_type": "code",
      "source": [
        "# Combine training data and add labels\n",
        "X_train = np.concatenate((train_Class1_array, train_Class2_array), axis=0)\n",
        "y_train = np.concatenate((np.ones(train_Class1_array.shape[0]), -np.ones(train_Class2_array.shape[0])), axis=0)\n",
        "\n",
        "# Add bias column to training data\n",
        "X_train_augmented = np.concatenate((X_train, np.ones((X_train.shape[0], 1))), axis=1)"
      ],
      "metadata": {
        "id": "KOindkmO-wqn"
      },
      "execution_count": 23,
      "outputs": []
    },
    {
      "cell_type": "code",
      "source": [
        "# Function to compute pseudo-inverse\n",
        "def compute_pseudo_inverse(X):\n",
        "    X_transpose = X.T\n",
        "    X_transpose_Multip_X = np.matmul(X_transpose, X)\n",
        "    inverse = np.linalg.inv(X_transpose_Multip_X)\n",
        "    pseudoInv = np.matmul(inverse, X_transpose)\n",
        "    return pseudoInv\n",
        "\n",
        "# Compute weights using pseudo-inverse\n",
        "pseudoInv = compute_pseudo_inverse(X_train_augmented)\n",
        "w = np.matmul(pseudoInv, y_train)"
      ],
      "metadata": {
        "id": "wF9prDeh-wn0"
      },
      "execution_count": 24,
      "outputs": []
    },
    {
      "cell_type": "code",
      "source": [
        "# Prepare test data and add bias column\n",
        "X_test_Class1 = test_Class1.drop(\"Species\", axis=1).values\n",
        "X_test_Class2 = test_Class2.drop(\"Species\", axis=1).values\n",
        "\n",
        "X_test_Class1_augmented = np.concatenate((X_test_Class1, np.ones((X_test_Class1.shape[0], 1))), axis=1)\n",
        "X_test_Class2_augmented = np.concatenate((X_test_Class2, np.ones((X_test_Class2.shape[0], 1))), axis=1)"
      ],
      "metadata": {
        "id": "qj61u-4U-wk9"
      },
      "execution_count": 25,
      "outputs": []
    },
    {
      "cell_type": "code",
      "source": [
        "# Function to predict based on augmented data and weights\n",
        "def predict(X_augmented, weights):\n",
        "    return np.dot(X_augmented, weights)"
      ],
      "metadata": {
        "id": "wiiaceAR-wiS"
      },
      "execution_count": 26,
      "outputs": []
    },
    {
      "cell_type": "code",
      "source": [
        "# Predictions for class1 (Iris-setosa)\n",
        "predictions_class1 = predict(X_test_Class1_augmented, w)\n",
        "print(\"Predictions for class1 (Iris-setosa):\")\n",
        "print(predictions_class1)\n",
        "\n",
        "# Predictions for class2 (Iris-virginica and Iris-versicolor combined)\n",
        "predictions_class2 = predict(X_test_Class2_augmented, w)\n",
        "print(\"Predictions for class2 (Iris-virginica and Iris-versicolor combined):\")\n",
        "print(predictions_class2)\n"
      ],
      "metadata": {
        "colab": {
          "base_uri": "https://localhost:8080/"
        },
        "id": "VqS9Dp0r81m0",
        "outputId": "41cc4452-3813-4876-d345-fcd13bdeddfe"
      },
      "execution_count": 27,
      "outputs": [
        {
          "output_type": "stream",
          "name": "stdout",
          "text": [
            "Predictions for class1 (Iris-setosa):\n",
            "[0.75737105 0.85966255 0.63954394 0.65677335 0.93071488 1.02641505\n",
            " 0.77029365 0.61579424 1.22298072 1.03216335]\n",
            "Predictions for class2 (Iris-virginica and Iris-versicolor combined):\n",
            "[-1.00826824 -1.22178778 -1.13871873 -0.5577869  -0.73060287 -0.75493554\n",
            " -1.06828853 -1.36323843 -0.79160783 -0.55048645 -1.05739039 -0.68370193\n",
            " -1.02704162 -1.10970897 -1.18679335 -0.77725149 -0.94992582 -0.90804083\n",
            " -0.78411836 -0.62427236]\n"
          ]
        }
      ]
    },
    {
      "cell_type": "code",
      "source": [
        "# Concatenate true labels for class1 and class2\n",
        "true_labels = np.concatenate((np.ones(len(predictions_class1)), -1 * np.ones(len(predictions_class2))))\n",
        "\n",
        "# Concatenate predicted labels for class1 and class2\n",
        "predicted_labels = np.concatenate((predictions_class1, predictions_class2))\n",
        "\n",
        "# Calculate accuracy score\n",
        "accuracy = accuracy_score(true_labels, np.sign(predicted_labels))\n",
        "print(f\"Accuracy score: {accuracy}\")\n",
        "\n",
        "\n"
      ],
      "metadata": {
        "colab": {
          "base_uri": "https://localhost:8080/"
        },
        "id": "Bq8UPi0p_wjS",
        "outputId": "e39fcbff-e8e2-4e21-afb5-4dffd9005754"
      },
      "execution_count": 30,
      "outputs": [
        {
          "output_type": "stream",
          "name": "stdout",
          "text": [
            "Accuracy score: 1.0\n"
          ]
        }
      ]
    }
  ]
}